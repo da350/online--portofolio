{
  "cells": [
    {
      "cell_type": "code",
      "execution_count": null,
      "id": "cff7f270",
      "metadata": {
        "id": "cff7f270"
      },
      "outputs": [],
      "source": []
    },
    {
      "cell_type": "markdown",
      "id": "korean-wednesday",
      "metadata": {
        "id": "korean-wednesday"
      },
      "source": [
        "# Touch Typing\n",
        "You should develop your touch typing skills through the term. In particular, you should do the following:\n",
        "- Do an online typing test with your default typing style using websites such as [TypingAcademy](https://www.typing.academy/typing-tutor/typing-test). Write down the results in the following table.\n",
        "- Start doing online touch typing exercises using websites such as [TypingClub](https://www.typingclub.com/).\n",
        "- Keep doing the exercises and updating the following table until the end of the term. Present the table and discuss your progress in your final assignment.  \n",
        "\n",
        "| Date | Words per Minute | Error Rate |\n",
        "|------|------------------|------------|\n",
        "| 21.04.2023 |24.6  |1.26%  |\n",
        "| 24.04.2023 |23.6  | 2.6% |\n",
        "| 31.04.2023 |24  |0.83%  |\n",
        "| 03.05.2023 |20  | 1.7% |\n",
        "| 19.06.2023 | 24 |1.64%  |"
      ]
    }
  ],
  "metadata": {
    "kernelspec": {
      "display_name": "Python 3",
      "language": "python",
      "name": "python3"
    },
    "language_info": {
      "codemirror_mode": {
        "name": "ipython",
        "version": 3
      },
      "file_extension": ".py",
      "mimetype": "text/x-python",
      "name": "python",
      "nbconvert_exporter": "python",
      "pygments_lexer": "ipython3",
      "version": "3.8.5"
    },
    "colab": {
      "provenance": []
    }
  },
  "nbformat": 4,
  "nbformat_minor": 5
}