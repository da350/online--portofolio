{
  "cells": [
    {
      "cell_type": "markdown",
      "id": "korean-wednesday",
      "metadata": {
        "id": "korean-wednesday"
      },
      "source": [
        "# Online Portfolio\n",
        "Your company has received a few applications for a computer science position. You are the hiring manager and should review the online portfolios of the applicants. In particular, you should do the following:\n",
        "- Write a short review (including 3 strong and 3 weak points) for the online portfolio of each of the following applicants.\n",
        "    - [Megan Landau](http://www.meganlandau.com/portfolio-1/).\n",
        "    - [Kalyn Nakano](https://kalynnakano.com/).\n",
        "    - [Victoria Holland](https://victoria-holland.info/).\n",
        "    - [Gautam Krishna](https://www.gautamkrishnar.com/).\n",
        "    - [Lakshmi Chandana](https://chandanachaitanya.github.io/).\n",
        "- Rank the applicants for the job position based on your reviews.\n",
        "- Who will you hire in the end? Why?"
      ]
    },
    {
      "cell_type": "code",
      "execution_count": null,
      "id": "cff7f270",
      "metadata": {
        "id": "cff7f270"
      },
      "outputs": [],
      "source": []
    },
    {
      "cell_type": "markdown",
      "source": [],
      "metadata": {
        "id": "cPRA8yeITbLq"
      },
      "id": "cPRA8yeITbLq"
    },
    {
      "cell_type": "markdown",
      "source": [],
      "metadata": {
        "id": "ZBFRrAoNX8u6"
      },
      "id": "ZBFRrAoNX8u6"
    },
    {
      "cell_type": "code",
      "source": [],
      "metadata": {
        "id": "0HSICI8kTcF7"
      },
      "id": "0HSICI8kTcF7",
      "execution_count": null,
      "outputs": []
    },
    {
      "cell_type": "markdown",
      "source": [
        "MEGAN LANDEAU strongness:good designed,Volunteer experience,contribution to open sources.\n",
        "weakness:too touchpoint,missing soft skills,non link to portofolio\n",
        "\n",
        "Kalyn Nakano strongness:creative portofolio,fun projects,good timelines\n",
        "weakness:missing links to repositories, contact not easily visible,soft skills.\n",
        "\n",
        "\n",
        "\n",
        "\n",
        "victoria halland strogness:good experiences with java,positive feedback by custumers,offering efficient solutions\n",
        "weakness:lack of details regarding technologies,limited emphasis,lack of commitment\n",
        "\n",
        "\n",
        "\n",
        "\n",
        "\n",
        "GAUTHAM KRISHMA:Extensive contributions,leadership and teamwork,open source contributions. weakness:insufficient contact information,soft skills\n",
        "\n",
        "\n",
        "\n",
        "\n",
        "LAKISHMA CHADANA :well designed,good works experience,Extensive contributions\n",
        "weakness:not clearly informations about software skills,no github links, no profil picture\n",
        "\n",
        "\n",
        "\n",
        "RANKING:\n",
        "\n",
        "GAUTHAM KRISHMA\n",
        "\n",
        "LAKISHMA CHADANNA\n",
        "\n",
        "KALYN NAKANO\n",
        "\n",
        "VICTORIA HALLAND\n",
        "\n",
        "MEGAN LANDEAU\n",
        "\n",
        "\n",
        "HIRING\n",
        "\n",
        "\n",
        "GAUTHAM KRISHMA because of his resume, and he has the best online portofolio.\n"
      ],
      "metadata": {
        "id": "LATVCEkkTcya"
      },
      "id": "LATVCEkkTcya"
    }
  ],
  "metadata": {
    "kernelspec": {
      "display_name": "Python 3",
      "language": "python",
      "name": "python3"
    },
    "language_info": {
      "codemirror_mode": {
        "name": "ipython",
        "version": 3
      },
      "file_extension": ".py",
      "mimetype": "text/x-python",
      "name": "python",
      "nbconvert_exporter": "python",
      "pygments_lexer": "ipython3",
      "version": "3.8.5"
    },
    "colab": {
      "provenance": []
    }
  },
  "nbformat": 4,
  "nbformat_minor": 5
}